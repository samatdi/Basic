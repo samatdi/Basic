{
 "cells": [
  {
   "cell_type": "markdown",
   "id": "3f0f8c88",
   "metadata": {},
   "source": [
    "### swea 4835."
   ]
  },
  {
   "cell_type": "markdown",
   "id": "ceb3ae09",
   "metadata": {},
   "source": [
    "3\n",
    "10 3\n",
    "1 2 3 4 5 6 7 8 9 10\n",
    "10 5\n",
    "6262 6004 1801 7660 7919 1280 525 9798 5134 1821\n",
    "20 19\n",
    "3266 9419 3087 9001 9321 1341 7379 6236 5795 8910 2990 2152 2249 4059 1394 6871 4911 3648 1969 2176"
   ]
  },
  {
   "cell_type": "code",
   "execution_count": 4,
   "id": "d6e354d8",
   "metadata": {
    "scrolled": true
   },
   "outputs": [
    {
     "name": "stdout",
     "output_type": "stream",
     "text": [
      "3\n",
      "10 3\n",
      "1 2 3 4 5 6 7 8 9 10\n",
      "#1 21 \n",
      "10 5\n",
      "6262 6004 1801 7660 7919 1280 525 9798 5134 1821\n",
      "#2 27082 \n",
      "20 19\n",
      "3266 9419 3087 9001 9321 1341 7379 6236 5795 8910 2990 2152 2249 4059 1394 6871 4911 3648 1969 2176\n",
      "#3 8078 \n"
     ]
    }
   ],
   "source": [
    "T = int(input())\n",
    "\n",
    "for tc in range(1, T+1):\n",
    "    N, M = map(int, input().split()) \n",
    "    numbers = list(map(int, input().split()))\n",
    "    \n",
    "    sort_numbers = sorted(numbers, reverse=True)\n",
    "    b1 = M\n",
    "    b2 = N - M \n",
    "    \n",
    "    answer = sum(sort_numbers[0:b1])-sum(sort_numbers[b2:])\n",
    "    \n",
    "    print('#{} {} '.format(tc, answer))"
   ]
  }
 ],
 "metadata": {
  "kernelspec": {
   "display_name": "Python 3 (ipykernel)",
   "language": "python",
   "name": "python3"
  },
  "language_info": {
   "codemirror_mode": {
    "name": "ipython",
    "version": 3
   },
   "file_extension": ".py",
   "mimetype": "text/x-python",
   "name": "python",
   "nbconvert_exporter": "python",
   "pygments_lexer": "ipython3",
   "version": "3.9.7"
  }
 },
 "nbformat": 4,
 "nbformat_minor": 5
}
