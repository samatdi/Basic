{
 "cells": [
  {
   "cell_type": "markdown",
   "id": "b6434455",
   "metadata": {},
   "source": [
    "학점계산기1"
   ]
  },
  {
   "cell_type": "code",
   "execution_count": 1,
   "id": "0594dd42",
   "metadata": {},
   "outputs": [
    {
     "name": "stdout",
     "output_type": "stream",
     "text": [
      "점수를 적으세요: 85\n",
      "학점: B\n"
     ]
    }
   ],
   "source": [
    "Your_Score = int(input(\"점수를 적으세요: \")) #변수 설정은 띄어쓰기가 안된다. _로 이어줘야.\n",
    "\n",
    "if Your_Score >= 90: grade = 'A'\n",
    "elif Your_Score >= 80: grade = 'B'\n",
    "elif Your_Score >= 70: grade = 'C'\n",
    "elif Your_Score >= 60: grade = 'D'\n",
    "else: grade = 'F'\n",
    "print(\"학점:\",grade)"
   ]
  },
  {
   "cell_type": "markdown",
   "id": "318080b6",
   "metadata": {},
   "source": [
    "학점계산기1 프로그램을 만들때 알아야할 것\n",
    "\n",
    "1. 변수는 띄어쓰기가 안된다. '_'로 이어줘야 한다.\n",
    "2. input함수는 문자열만 도출한다.\n",
    "3. 비교연산자는 문자형과 숫자형 사이에서는 작동되지 않는다. ※기본 연산도 마찬가지다.\n",
    "4. print 함수 안에 ','는 띄어써서 나란히 문자열을 배열하게 한다."
   ]
  },
  {
   "cell_type": "markdown",
   "id": "0ee224ed",
   "metadata": {},
   "source": [
    "학점계산기2"
   ]
  },
  {
   "cell_type": "code",
   "execution_count": 2,
   "id": "5adb6207",
   "metadata": {},
   "outputs": [
    {
     "name": "stdout",
     "output_type": "stream",
     "text": [
      "점수를 적으세요: 85\n",
      "B\n"
     ]
    }
   ],
   "source": [
    "Your_Score = int(input(\"점수를 적으세요: \")) #변수 설정은 띄어쓰기가 안된다. _로 이어줘야.\n",
    "\n",
    "if Your_Score >= 90: print('A')\n",
    "elif Your_Score >= 80: print('B')\n",
    "elif Your_Score >= 70: print('C')\n",
    "elif Your_Score >= 60: print('D')\n",
    "else: grade = 'F'"
   ]
  },
  {
   "cell_type": "markdown",
   "id": "75f546c7",
   "metadata": {},
   "source": [
    "구구단"
   ]
  },
  {
   "cell_type": "code",
   "execution_count": 3,
   "id": "1407c627",
   "metadata": {},
   "outputs": [
    {
     "name": "stdout",
     "output_type": "stream",
     "text": [
      "몇단을 보고 싶나요? 숫자만 적어주세요\n",
      "8\n",
      "8 단\n",
      "8 X 1 = 8\n",
      "8 X 2 = 16\n",
      "8 X 3 = 24\n",
      "8 X 4 = 32\n",
      "8 X 5 = 40\n",
      "8 X 6 = 48\n",
      "8 X 7 = 56\n",
      "8 X 8 = 64\n",
      "8 X 9 = 72\n"
     ]
    }
   ],
   "source": [
    "print(\"몇단을 보고 싶나요? 숫자만 적어주세요\")\n",
    "\n",
    "User_input = int(input())\n",
    "print(User_input,\"단\")\n",
    "for i in range(1,10):\n",
    "    result = User_input*i\n",
    "    print(User_input,\"X\",i,\"=\",result)"
   ]
  },
  {
   "cell_type": "markdown",
   "id": "768e9d4a",
   "metadata": {},
   "source": [
    "문자열 역순출력"
   ]
  },
  {
   "cell_type": "code",
   "execution_count": 4,
   "id": "d181d516",
   "metadata": {},
   "outputs": [
    {
     "name": "stdout",
     "output_type": "stream",
     "text": [
      "문자열을 입력하세요\n",
      "i love you\n",
      "역순 출력\n",
      "uoy evol i \n"
     ]
    }
   ],
   "source": [
    "print(\"문자열을 입력하세요\")\n",
    "sentence = input()\n",
    "reverse_sentence = \" \"\n",
    "for char in sentence:\n",
    "    reverse_sentence = char + reverse_sentence\n",
    "print(\"역순 출력\")\n",
    "print(reverse_sentence)"
   ]
  },
  {
   "cell_type": "markdown",
   "id": "81dd173d",
   "metadata": {},
   "source": [
    "십진수를 이진수로 출력"
   ]
  },
  {
   "cell_type": "code",
   "execution_count": 5,
   "id": "d9253de3",
   "metadata": {},
   "outputs": [
    {
     "name": "stdout",
     "output_type": "stream",
     "text": [
      "십진수를 입력하세요\n",
      "100\n",
      "이진수 변환 값\n",
      "1100100\n"
     ]
    }
   ],
   "source": [
    "print(\"십진수를 입력하세요\")\n",
    "decimal = int(input())\n",
    "result = ''\n",
    "while (decimal>0):\n",
    "    remainder = decimal % 2\n",
    "    decimal = decimal // 2\n",
    "    result = str(remainder)+result\n",
    "print(\"이진수 변환 값\")\n",
    "print(result)"
   ]
  },
  {
   "cell_type": "markdown",
   "id": "cb7a4baf",
   "metadata": {},
   "source": [
    "숫자찾기게임"
   ]
  },
  {
   "cell_type": "code",
   "execution_count": 6,
   "id": "b3771810",
   "metadata": {},
   "outputs": [
    {
     "name": "stdout",
     "output_type": "stream",
     "text": [
      "숫자를 맞혀 보세요. (1~100)\n",
      "8\n",
      "숫자가 너무 작습니다.\n",
      "45\n",
      "숫자가 너무 큽니다.\n",
      "31\n",
      "숫자가 너무 작습니다.\n",
      "36\n",
      "숫자가 너무 큽니다.\n",
      "35\n",
      "숫자가 너무 큽니다.\n",
      "33\n",
      "숫자가 너무 큽니다.\n",
      "32\n",
      "정답입니다. 입력한 숫자는 32 입니다\n"
     ]
    }
   ],
   "source": [
    "import random \n",
    "guess_number = random.randint(1,100) #난수 생성\n",
    "print(\"숫자를 맞혀 보세요. (1~100)\")\n",
    "users_input = int(input())\n",
    "while (users_input is not guess_number):\n",
    "    if users_input > guess_number:\n",
    "        print(\"숫자가 너무 큽니다.\")\n",
    "    else:\n",
    "        print(\"숫자가 너무 작습니다.\")\n",
    "    users_input = int(input())\n",
    "else:\n",
    "    print(\"정답입니다.\", \"입력한 숫자는\", users_input,\"입니다\")"
   ]
  },
  {
   "cell_type": "code",
   "execution_count": null,
   "id": "bf913276",
   "metadata": {},
   "outputs": [],
   "source": []
  },
  {
   "cell_type": "code",
   "execution_count": null,
   "id": "a93853b2",
   "metadata": {},
   "outputs": [],
   "source": []
  }
 ],
 "metadata": {
  "kernelspec": {
   "display_name": "Python 3 (ipykernel)",
   "language": "python",
   "name": "python3"
  },
  "language_info": {
   "codemirror_mode": {
    "name": "ipython",
    "version": 3
   },
   "file_extension": ".py",
   "mimetype": "text/x-python",
   "name": "python",
   "nbconvert_exporter": "python",
   "pygments_lexer": "ipython3",
   "version": "3.9.7"
  }
 },
 "nbformat": 4,
 "nbformat_minor": 5
}
