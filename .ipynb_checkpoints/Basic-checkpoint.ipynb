{
 "cells": [
  {
   "cell_type": "markdown",
   "id": "b6434455",
   "metadata": {},
   "source": [
    "학점계산기1"
   ]
  },
  {
   "cell_type": "code",
   "execution_count": 1,
   "id": "0594dd42",
   "metadata": {},
   "outputs": [
    {
     "name": "stdout",
     "output_type": "stream",
     "text": [
      "점수를 적으세요: 85\n",
      "학점: B\n"
     ]
    }
   ],
   "source": [
    "Your_Score = int(input(\"점수를 적으세요: \")) #변수 설정은 띄어쓰기가 안된다. _로 이어줘야.\n",
    "\n",
    "if Your_Score >= 90: grade = 'A'\n",
    "elif Your_Score >= 80: grade = 'B'\n",
    "elif Your_Score >= 70: grade = 'C'\n",
    "elif Your_Score >= 60: grade = 'D'\n",
    "else: grade = 'F'\n",
    "print(\"학점:\",grade)"
   ]
  },
  {
   "cell_type": "markdown",
   "id": "318080b6",
   "metadata": {},
   "source": [
    "학점계산기1 프로그램을 만들때 알아야할 것\n",
    "\n",
    "1. 변수는 띄어쓰기가 안된다. '_'로 이어줘야 한다.\n",
    "2. input함수는 문자열만 도출한다.\n",
    "3. 비교연산자는 문자형과 숫자형 사이에서는 작동되지 않는다. ※기본 연산도 마찬가지다.\n",
    "4. print 함수 안에 ','는 띄어써서 나란히 문자열을 배열하게 한다."
   ]
  },
  {
   "cell_type": "markdown",
   "id": "0ee224ed",
   "metadata": {},
   "source": [
    "학점계산기2"
   ]
  },
  {
   "cell_type": "code",
   "execution_count": 2,
   "id": "5adb6207",
   "metadata": {},
   "outputs": [
    {
     "name": "stdout",
     "output_type": "stream",
     "text": [
      "점수를 적으세요: 85\n",
      "B\n"
     ]
    }
   ],
   "source": [
    "Your_Score = int(input(\"점수를 적으세요: \")) #변수 설정은 띄어쓰기가 안된다. _로 이어줘야.\n",
    "\n",
    "if Your_Score >= 90: print('A')\n",
    "elif Your_Score >= 80: print('B')\n",
    "elif Your_Score >= 70: print('C')\n",
    "elif Your_Score >= 60: print('D')\n",
    "else: grade = 'F'"
   ]
  },
  {
   "cell_type": "markdown",
   "id": "75f546c7",
   "metadata": {},
   "source": [
    "구구단"
   ]
  },
  {
   "cell_type": "code",
   "execution_count": 3,
   "id": "1407c627",
   "metadata": {},
   "outputs": [
    {
     "name": "stdout",
     "output_type": "stream",
     "text": [
      "몇단을 보고 싶나요? 숫자만 적어주세요\n",
      "8\n",
      "8 단\n",
      "8 X 1 = 8\n",
      "8 X 2 = 16\n",
      "8 X 3 = 24\n",
      "8 X 4 = 32\n",
      "8 X 5 = 40\n",
      "8 X 6 = 48\n",
      "8 X 7 = 56\n",
      "8 X 8 = 64\n",
      "8 X 9 = 72\n"
     ]
    }
   ],
   "source": [
    "print(\"몇단을 보고 싶나요? 숫자만 적어주세요\")\n",
    "\n",
    "User_input = int(input())\n",
    "print(User_input,\"단\")\n",
    "for i in range(1,10):\n",
    "    result = User_input*i\n",
    "    print(User_input,\"X\",i,\"=\",result)"
   ]
  },
  {
   "cell_type": "markdown",
   "id": "768e9d4a",
   "metadata": {},
   "source": [
    "문자열 역순출력"
   ]
  },
  {
   "cell_type": "code",
   "execution_count": 4,
   "id": "d181d516",
   "metadata": {},
   "outputs": [
    {
     "name": "stdout",
     "output_type": "stream",
     "text": [
      "문자열을 입력하세요\n",
      "i love you\n",
      "역순 출력\n",
      "uoy evol i \n"
     ]
    }
   ],
   "source": [
    "print(\"문자열을 입력하세요\")\n",
    "sentence = input()\n",
    "reverse_sentence = \" \"\n",
    "for char in sentence:\n",
    "    reverse_sentence = char + reverse_sentence\n",
    "print(\"역순 출력\")\n",
    "print(reverse_sentence)"
   ]
  },
  {
   "cell_type": "markdown",
   "id": "81dd173d",
   "metadata": {},
   "source": [
    "십진수를 이진수로 출력"
   ]
  },
  {
   "cell_type": "code",
   "execution_count": 5,
   "id": "d9253de3",
   "metadata": {},
   "outputs": [
    {
     "name": "stdout",
     "output_type": "stream",
     "text": [
      "십진수를 입력하세요\n",
      "100\n",
      "이진수 변환 값\n",
      "1100100\n"
     ]
    }
   ],
   "source": [
    "print(\"십진수를 입력하세요\")\n",
    "decimal = int(input())\n",
    "result = ''\n",
    "while (decimal>0):\n",
    "    remainder = decimal % 2\n",
    "    decimal = decimal // 2\n",
    "    result = str(remainder)+result\n",
    "print(\"이진수 변환 값\")\n",
    "print(result)"
   ]
  },
  {
   "cell_type": "markdown",
   "id": "cb7a4baf",
   "metadata": {},
   "source": [
    "숫자찾기게임"
   ]
  },
  {
   "cell_type": "code",
   "execution_count": 6,
   "id": "b3771810",
   "metadata": {},
   "outputs": [
    {
     "name": "stdout",
     "output_type": "stream",
     "text": [
      "숫자를 맞혀 보세요. (1~100)\n",
      "8\n",
      "숫자가 너무 작습니다.\n",
      "45\n",
      "숫자가 너무 큽니다.\n",
      "31\n",
      "숫자가 너무 작습니다.\n",
      "36\n",
      "숫자가 너무 큽니다.\n",
      "35\n",
      "숫자가 너무 큽니다.\n",
      "33\n",
      "숫자가 너무 큽니다.\n",
      "32\n",
      "정답입니다. 입력한 숫자는 32 입니다\n"
     ]
    }
   ],
   "source": [
    "import random \n",
    "guess_number = random.randint(1,100) #난수 생성\n",
    "print(\"숫자를 맞혀 보세요. (1~100)\")\n",
    "users_input = int(input())\n",
    "while (users_input is not guess_number):\n",
    "    if users_input > guess_number:\n",
    "        print(\"숫자가 너무 큽니다.\")\n",
    "    else:\n",
    "        print(\"숫자가 너무 작습니다.\")\n",
    "    users_input = int(input())\n",
    "else:\n",
    "    print(\"정답입니다.\", \"입력한 숫자는\", users_input,\"입니다\")"
   ]
  },
  {
   "cell_type": "markdown",
   "id": "fa1fbf98",
   "metadata": {},
   "source": [
    "베이비진 게임"
   ]
  },
  {
   "cell_type": "code",
   "execution_count": 2,
   "id": "c94802d8",
   "metadata": {},
   "outputs": [
    {
     "name": "stdout",
     "output_type": "stream",
     "text": [
      "[0, 1, 0, 1, 1, 2, 1, 1, 1, 0]\n",
      "True\n"
     ]
    }
   ],
   "source": [
    "cards = [4, 8, 7, 3, 1, 5, 5, 6]\n",
    "\n",
    "card_counts = [0] * 10 # 이 게임은 0~9까지의 10개 숫자를 다루기 때문에 10칸을 만들어 둔다. \n",
    "\n",
    "for num in cards:  \n",
    "    card_counts[num] += 1 # 이렇게 하면 카드 숫자와 일치하는 인덱스 위치에 1이 카운트된다. \n",
    "                          # 개수 셀 때 바를 정자 한 획 긋는 것과 비슷.     \n",
    "print(card_counts)\n",
    "\n",
    "is_run = False  # run이 있느냐 없느냐가 문제이기 때문에 True,False로 답을 찾아낼 수 있다. \n",
    "                # False로 미리 설정하면 굳이 else를 사용할 필요없다.\n",
    "                 \n",
    "for i in range(len(card_counts)-2): # 3개씩 동시에 검증해야하니까 index 7 까지만!\n",
    "                                    # 결국 밑에서 cards에 대한 인덱스 기준으로 연속으로 3개씩 검증해야하는데 \n",
    "                                    # 출발 index가 7을 넘어가면 리스트 범위를 넘어가게된다.  \n",
    "    if card_counts[i] >= 1 and card_counts[i+1] >= 1 and card_counts[i+2] >= 1:\n",
    "        is_run = True  # 3개 동시에 봤을때 조건을 만족하면 run 이니까.\n",
    "print(is_run)"
   ]
  },
  {
   "cell_type": "markdown",
   "id": "ea4dbdfd",
   "metadata": {},
   "source": [
    "min() 함수 직접 구현(for문 기초)"
   ]
  },
  {
   "cell_type": "code",
   "execution_count": 1,
   "id": "bf913276",
   "metadata": {},
   "outputs": [
    {
     "name": "stdout",
     "output_type": "stream",
     "text": [
      "1\n"
     ]
    }
   ],
   "source": [
    "# min() 함수 직접 구현해 보기\n",
    "# 현재 주어진 숫자들에 대한 정보는 다음과 같습니다. 모든 숫자는 0 이상 100미만의 정수 입니다.\n",
    "nums = [1, 5 ,77, 26, 33, 2, 6, 16, 55]\n",
    "\n",
    "# 로직을 작성해 주세요\n",
    "\n",
    "min_num = 100  # 될 수 없을만큼 '큰\" 숫자부터 시작. 설정. \n",
    "\n",
    "for num in nums:\n",
    "    if min_num > num: # 숫자들간 비교. 처음에는 100과 1비교. 1이 더 작은가?\n",
    "        min_num = num # True! 그러면 1은 생존 100은 탈락. min_num은 1이 된다. 갈아끼우고 다시 위로가서 for문을 돌린다.\n",
    "                      # 그 다음 요소 5와 새로 설정된 min_num값 1을 비교하면 1이 작다. 1은 생존 5는 탈락.\n",
    "                      # 이렇게 모든 숫자 비교해서 탈락, 생존을 결정. 마지막 숫자가 남을때까지.\n",
    "\n",
    "print(min_num) # 살아남은 마지막 숫자, 최소값을 출력"
   ]
  },
  {
   "cell_type": "code",
   "execution_count": null,
   "id": "a93853b2",
   "metadata": {},
   "outputs": [],
   "source": []
  }
 ],
 "metadata": {
  "kernelspec": {
   "display_name": "Python 3 (ipykernel)",
   "language": "python",
   "name": "python3"
  },
  "language_info": {
   "codemirror_mode": {
    "name": "ipython",
    "version": 3
   },
   "file_extension": ".py",
   "mimetype": "text/x-python",
   "name": "python",
   "nbconvert_exporter": "python",
   "pygments_lexer": "ipython3",
   "version": "3.9.7"
  }
 },
 "nbformat": 4,
 "nbformat_minor": 5
}
