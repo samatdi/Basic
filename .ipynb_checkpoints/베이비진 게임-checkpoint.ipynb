{
 "cells": [
  {
   "cell_type": "code",
   "execution_count": 1,
   "id": "ce7598d8",
   "metadata": {},
   "outputs": [
    {
     "name": "stdout",
     "output_type": "stream",
     "text": [
      "[0, 1, 0, 1, 1, 2, 1, 1, 1, 0]\n",
      "True\n"
     ]
    }
   ],
   "source": [
    "cards = [4, 8, 7, 3, 1, 5, 5, 6]\n",
    "\n",
    "card_counts = [0] * 10 # 이 게임은 0~9까지의 10개 숫자를 다루기 때문에 10칸을 만들어 둔다. \n",
    "\n",
    "for num in cards:  \n",
    "    card_counts[num] += 1 # 이렇게 하면 카드 숫자와 일치하는 인덱스 위치에 1이 카운트된다. \n",
    "                          # 개수 셀 때 바를 정자 한 획 긋는 것과 비슷.     \n",
    "print(card_counts)\n",
    "\n",
    "is_run = False  # run이 있느냐 없느냐가 문제이기 때문에 True,False로 답을 찾아낼 수 있다. \n",
    "                # False로 미리 설정하면 굳이 else를 사용할 필요없다.\n",
    "                 \n",
    "for i in range(len(card_counts)-2): # 3개씩 동시에 검증해야하니까 index 7 까지만!\n",
    "                                    # 결국 밑에서 cards에 대한 인덱스 기준으로 연속으로 3개씩 검증해야하는데 \n",
    "                                    # 출발 index가 7을 넘어가면 리스트 범위를 넘어가게된다.  \n",
    "    if card_counts[i] >= 1 and card_counts[i+1] >= 1 and card_counts[i+2] >= 1:\n",
    "        is_run = True  # 3개 동시에 봤을때 조건을 만족하면 run 이니까.\n",
    "print(is_run)"
   ]
  },
  {
   "cell_type": "code",
   "execution_count": null,
   "id": "065a52a9",
   "metadata": {},
   "outputs": [],
   "source": []
  }
 ],
 "metadata": {
  "kernelspec": {
   "display_name": "Python 3 (ipykernel)",
   "language": "python",
   "name": "python3"
  },
  "language_info": {
   "codemirror_mode": {
    "name": "ipython",
    "version": 3
   },
   "file_extension": ".py",
   "mimetype": "text/x-python",
   "name": "python",
   "nbconvert_exporter": "python",
   "pygments_lexer": "ipython3",
   "version": "3.9.7"
  }
 },
 "nbformat": 4,
 "nbformat_minor": 5
}
